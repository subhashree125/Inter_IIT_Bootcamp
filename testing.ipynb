{
 "cells": [
  {
   "cell_type": "code",
   "execution_count": 1,
   "metadata": {},
   "outputs": [],
   "source": [
    "from classification_model import vgg_unet \n",
    "from predict import predict_multiple  \n",
    "from predict import class_names\n",
    "from predict import class_colors\n",
    "\n",
    "inp_dir = \"test\"      \n",
    "out_dir = \"predicted_images\"  \n",
    "\n",
    "model = vgg_unet(n_classes = 27, input_height=416, input_width=608, encoder_level=3, channels=3)\n",
    "model.load_weights('checkpoints/model.weights.h5')"
   ]
  },
  {
   "cell_type": "code",
   "execution_count": null,
   "metadata": {},
   "outputs": [],
   "source": [
    "predictions = predict_multiple(model=model, inp_dir=inp_dir, out_dir=out_dir, class_names= class_names, colors=class_colors)\n",
    "print(f\"Predictions completed. Predicted images are stored in: {out_dir}\")"
   ]
  }
 ],
 "metadata": {
  "kernelspec": {
   "display_name": "base",
   "language": "python",
   "name": "python3"
  },
  "language_info": {
   "codemirror_mode": {
    "name": "ipython",
    "version": 3
   },
   "file_extension": ".py",
   "mimetype": "text/x-python",
   "name": "python",
   "nbconvert_exporter": "python",
   "pygments_lexer": "ipython3",
   "version": "3.11.9"
  }
 },
 "nbformat": 4,
 "nbformat_minor": 2
}
